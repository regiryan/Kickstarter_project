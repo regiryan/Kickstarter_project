{
 "cells": [
  {
   "cell_type": "markdown",
   "metadata": {},
   "source": [
    "1. Change notebook name\n",
    "2. Change df name (80 occurances)\n",
    "3. Change json file name\n",
    "4. Set collected on date\n"
   ]
  },
  {
   "cell_type": "code",
   "execution_count": 1,
   "metadata": {},
   "outputs": [],
   "source": [
    "import pandas as pd\n",
    "pd.set_option('display.max_columns', 500)\n",
    "from datetime import datetime\n",
    "import numpy as np\n",
    "import timeit\n",
    "import json"
   ]
  },
  {
   "cell_type": "code",
   "execution_count": 2,
   "metadata": {},
   "outputs": [
    {
     "name": "stdout",
     "output_type": "stream",
     "text": [
      "time: 133.056413602\n"
     ]
    }
   ],
   "source": [
    "start_time = timeit.default_timer()\n",
    "\n",
    "\n",
    "df_2019_nov = pd.read_json('json_datasets/Kickstarter_2019-11-14T03_20_27_004Z.json', lines=True)\n",
    "\n",
    "\n",
    "elapsed = timeit.default_timer() - start_time\n",
    "print(f'time: {elapsed}')"
   ]
  },
  {
   "cell_type": "code",
   "execution_count": 3,
   "metadata": {},
   "outputs": [],
   "source": [
    "# Save the creation datetime for calculating age of project later\n",
    "df_2019_nov_collected_on = datetime(2019, 11, 14)"
   ]
  },
  {
   "cell_type": "code",
   "execution_count": 4,
   "metadata": {},
   "outputs": [
    {
     "name": "stdout",
     "output_type": "stream",
     "text": [
      "Total_rows: 211424\n",
      "time: 110.65276263400006\n"
     ]
    },
    {
     "data": {
      "text/html": [
       "<div>\n",
       "<style scoped>\n",
       "    .dataframe tbody tr th:only-of-type {\n",
       "        vertical-align: middle;\n",
       "    }\n",
       "\n",
       "    .dataframe tbody tr th {\n",
       "        vertical-align: top;\n",
       "    }\n",
       "\n",
       "    .dataframe thead th {\n",
       "        text-align: right;\n",
       "    }\n",
       "</style>\n",
       "<table border=\"1\" class=\"dataframe\">\n",
       "  <thead>\n",
       "    <tr style=\"text-align: right;\">\n",
       "      <th></th>\n",
       "      <th>id</th>\n",
       "      <th>photo</th>\n",
       "      <th>name</th>\n",
       "      <th>blurb</th>\n",
       "      <th>goal</th>\n",
       "      <th>pledged</th>\n",
       "      <th>state</th>\n",
       "      <th>slug</th>\n",
       "      <th>disable_communication</th>\n",
       "      <th>country</th>\n",
       "      <th>country_displayable_name</th>\n",
       "      <th>currency</th>\n",
       "      <th>currency_symbol</th>\n",
       "      <th>currency_trailing_code</th>\n",
       "      <th>deadline</th>\n",
       "      <th>state_changed_at</th>\n",
       "      <th>created_at</th>\n",
       "      <th>launched_at</th>\n",
       "      <th>staff_pick</th>\n",
       "      <th>is_starrable</th>\n",
       "      <th>backers_count</th>\n",
       "      <th>static_usd_rate</th>\n",
       "      <th>usd_pledged</th>\n",
       "      <th>converted_pledged_amount</th>\n",
       "      <th>fx_rate</th>\n",
       "      <th>current_currency</th>\n",
       "      <th>usd_type</th>\n",
       "      <th>creator</th>\n",
       "      <th>location</th>\n",
       "      <th>category</th>\n",
       "      <th>profile</th>\n",
       "      <th>spotlight</th>\n",
       "      <th>urls</th>\n",
       "      <th>source_url</th>\n",
       "      <th>friends</th>\n",
       "      <th>is_starred</th>\n",
       "      <th>is_backing</th>\n",
       "      <th>permissions</th>\n",
       "    </tr>\n",
       "  </thead>\n",
       "  <tbody>\n",
       "    <tr>\n",
       "      <th>0</th>\n",
       "      <td>117424629</td>\n",
       "      <td>{'key': 'assets/012/167/578/bc9a45402692d32490...</td>\n",
       "      <td>Bring the Thunder Gumbo Art Car to Burning Man...</td>\n",
       "      <td>Help support the legendary B.O.O.G.A. mutant v...</td>\n",
       "      <td>6000.0</td>\n",
       "      <td>6223.0</td>\n",
       "      <td>successful</td>\n",
       "      <td>thunder-gumbo-art-car-burning-man-2015-repairs...</td>\n",
       "      <td>False</td>\n",
       "      <td>US</td>\n",
       "      <td>the United States</td>\n",
       "      <td>USD</td>\n",
       "      <td>$</td>\n",
       "      <td>True</td>\n",
       "      <td>1438323004</td>\n",
       "      <td>1438323004</td>\n",
       "      <td>1434317481</td>\n",
       "      <td>1435731004</td>\n",
       "      <td>False</td>\n",
       "      <td>False</td>\n",
       "      <td>85</td>\n",
       "      <td>1.000000</td>\n",
       "      <td>6223.0</td>\n",
       "      <td>6223</td>\n",
       "      <td>1.000000</td>\n",
       "      <td>USD</td>\n",
       "      <td>international</td>\n",
       "      <td>{'id': 1120701030, 'name': 'Shalin Scupham', '...</td>\n",
       "      <td>{'id': 99999999, 'name': 'Black Rock City', 's...</td>\n",
       "      <td>{'id': 53, 'name': 'Public Art', 'slug': 'art/...</td>\n",
       "      <td>{'id': 1958146, 'project_id': 1958146, 'state'...</td>\n",
       "      <td>True</td>\n",
       "      <td>{'web': {'project': 'https://www.kickstarter.c...</td>\n",
       "      <td>https://www.kickstarter.com/discover/categorie...</td>\n",
       "      <td>NaN</td>\n",
       "      <td>NaN</td>\n",
       "      <td>NaN</td>\n",
       "      <td>NaN</td>\n",
       "    </tr>\n",
       "    <tr>\n",
       "      <th>1</th>\n",
       "      <td>699034184</td>\n",
       "      <td>{'key': 'assets/013/470/130/f533d172ac45032e2b...</td>\n",
       "      <td>Little D Threads (Canceled)</td>\n",
       "      <td>Handmade Organic comfortable trendy clothes fo...</td>\n",
       "      <td>15000.0</td>\n",
       "      <td>0.0</td>\n",
       "      <td>canceled</td>\n",
       "      <td>little-d-threads</td>\n",
       "      <td>False</td>\n",
       "      <td>CA</td>\n",
       "      <td>Canada</td>\n",
       "      <td>CAD</td>\n",
       "      <td>$</td>\n",
       "      <td>True</td>\n",
       "      <td>1474582606</td>\n",
       "      <td>1472164799</td>\n",
       "      <td>1471976279</td>\n",
       "      <td>1471990606</td>\n",
       "      <td>False</td>\n",
       "      <td>False</td>\n",
       "      <td>0</td>\n",
       "      <td>0.774623</td>\n",
       "      <td>0.0</td>\n",
       "      <td>0</td>\n",
       "      <td>0.754185</td>\n",
       "      <td>USD</td>\n",
       "      <td>domestic</td>\n",
       "      <td>{'id': 2039752660, 'name': 'Cassandra Derosa',...</td>\n",
       "      <td>{'id': 8676, 'name': 'Edmonton', 'slug': 'edmo...</td>\n",
       "      <td>{'id': 264, 'name': 'Childrenswear', 'slug': '...</td>\n",
       "      <td>{'id': 2649999, 'project_id': 2649999, 'state'...</td>\n",
       "      <td>False</td>\n",
       "      <td>{'web': {'project': 'https://www.kickstarter.c...</td>\n",
       "      <td>https://www.kickstarter.com/discover/categorie...</td>\n",
       "      <td>NaN</td>\n",
       "      <td>NaN</td>\n",
       "      <td>NaN</td>\n",
       "      <td>NaN</td>\n",
       "    </tr>\n",
       "    <tr>\n",
       "      <th>2</th>\n",
       "      <td>44517997</td>\n",
       "      <td>{'key': 'assets/011/826/861/e5a4a8c96a3bb0de9d...</td>\n",
       "      <td>Dawn of the Anthropocene - Public Art Ice Scul...</td>\n",
       "      <td>In NYC, 2 days before the U.N. Climate Summit,...</td>\n",
       "      <td>4500.0</td>\n",
       "      <td>5667.0</td>\n",
       "      <td>successful</td>\n",
       "      <td>dawn-of-the-anthropocene-public-art-ice-sculpture</td>\n",
       "      <td>False</td>\n",
       "      <td>US</td>\n",
       "      <td>the United States</td>\n",
       "      <td>USD</td>\n",
       "      <td>$</td>\n",
       "      <td>True</td>\n",
       "      <td>1412170599</td>\n",
       "      <td>1412170599</td>\n",
       "      <td>1407432996</td>\n",
       "      <td>1408714599</td>\n",
       "      <td>True</td>\n",
       "      <td>False</td>\n",
       "      <td>98</td>\n",
       "      <td>1.000000</td>\n",
       "      <td>5667.0</td>\n",
       "      <td>5667</td>\n",
       "      <td>1.000000</td>\n",
       "      <td>USD</td>\n",
       "      <td>international</td>\n",
       "      <td>{'id': 627800435, 'name': 'LigoranoReese', 'sl...</td>\n",
       "      <td>{'id': 2459115, 'name': 'New York', 'slug': 'n...</td>\n",
       "      <td>{'id': 53, 'name': 'Public Art', 'slug': 'art/...</td>\n",
       "      <td>{'id': 1270400, 'project_id': 1270400, 'state'...</td>\n",
       "      <td>True</td>\n",
       "      <td>{'web': {'project': 'https://www.kickstarter.c...</td>\n",
       "      <td>https://www.kickstarter.com/discover/categorie...</td>\n",
       "      <td>NaN</td>\n",
       "      <td>NaN</td>\n",
       "      <td>NaN</td>\n",
       "      <td>NaN</td>\n",
       "    </tr>\n",
       "  </tbody>\n",
       "</table>\n",
       "</div>"
      ],
      "text/plain": [
       "          id                                              photo  \\\n",
       "0  117424629  {'key': 'assets/012/167/578/bc9a45402692d32490...   \n",
       "1  699034184  {'key': 'assets/013/470/130/f533d172ac45032e2b...   \n",
       "2   44517997  {'key': 'assets/011/826/861/e5a4a8c96a3bb0de9d...   \n",
       "\n",
       "                                                name  \\\n",
       "0  Bring the Thunder Gumbo Art Car to Burning Man...   \n",
       "1                        Little D Threads (Canceled)   \n",
       "2  Dawn of the Anthropocene - Public Art Ice Scul...   \n",
       "\n",
       "                                               blurb     goal  pledged  \\\n",
       "0  Help support the legendary B.O.O.G.A. mutant v...   6000.0   6223.0   \n",
       "1  Handmade Organic comfortable trendy clothes fo...  15000.0      0.0   \n",
       "2  In NYC, 2 days before the U.N. Climate Summit,...   4500.0   5667.0   \n",
       "\n",
       "        state                                               slug  \\\n",
       "0  successful  thunder-gumbo-art-car-burning-man-2015-repairs...   \n",
       "1    canceled                                   little-d-threads   \n",
       "2  successful  dawn-of-the-anthropocene-public-art-ice-sculpture   \n",
       "\n",
       "   disable_communication country country_displayable_name currency  \\\n",
       "0                  False      US        the United States      USD   \n",
       "1                  False      CA                   Canada      CAD   \n",
       "2                  False      US        the United States      USD   \n",
       "\n",
       "  currency_symbol  currency_trailing_code    deadline  state_changed_at  \\\n",
       "0               $                    True  1438323004        1438323004   \n",
       "1               $                    True  1474582606        1472164799   \n",
       "2               $                    True  1412170599        1412170599   \n",
       "\n",
       "   created_at  launched_at  staff_pick  is_starrable  backers_count  \\\n",
       "0  1434317481   1435731004       False         False             85   \n",
       "1  1471976279   1471990606       False         False              0   \n",
       "2  1407432996   1408714599        True         False             98   \n",
       "\n",
       "   static_usd_rate usd_pledged  converted_pledged_amount   fx_rate  \\\n",
       "0         1.000000      6223.0                      6223  1.000000   \n",
       "1         0.774623         0.0                         0  0.754185   \n",
       "2         1.000000      5667.0                      5667  1.000000   \n",
       "\n",
       "  current_currency       usd_type  \\\n",
       "0              USD  international   \n",
       "1              USD       domestic   \n",
       "2              USD  international   \n",
       "\n",
       "                                             creator  \\\n",
       "0  {'id': 1120701030, 'name': 'Shalin Scupham', '...   \n",
       "1  {'id': 2039752660, 'name': 'Cassandra Derosa',...   \n",
       "2  {'id': 627800435, 'name': 'LigoranoReese', 'sl...   \n",
       "\n",
       "                                            location  \\\n",
       "0  {'id': 99999999, 'name': 'Black Rock City', 's...   \n",
       "1  {'id': 8676, 'name': 'Edmonton', 'slug': 'edmo...   \n",
       "2  {'id': 2459115, 'name': 'New York', 'slug': 'n...   \n",
       "\n",
       "                                            category  \\\n",
       "0  {'id': 53, 'name': 'Public Art', 'slug': 'art/...   \n",
       "1  {'id': 264, 'name': 'Childrenswear', 'slug': '...   \n",
       "2  {'id': 53, 'name': 'Public Art', 'slug': 'art/...   \n",
       "\n",
       "                                             profile  spotlight  \\\n",
       "0  {'id': 1958146, 'project_id': 1958146, 'state'...       True   \n",
       "1  {'id': 2649999, 'project_id': 2649999, 'state'...      False   \n",
       "2  {'id': 1270400, 'project_id': 1270400, 'state'...       True   \n",
       "\n",
       "                                                urls  \\\n",
       "0  {'web': {'project': 'https://www.kickstarter.c...   \n",
       "1  {'web': {'project': 'https://www.kickstarter.c...   \n",
       "2  {'web': {'project': 'https://www.kickstarter.c...   \n",
       "\n",
       "                                          source_url friends is_starred  \\\n",
       "0  https://www.kickstarter.com/discover/categorie...     NaN        NaN   \n",
       "1  https://www.kickstarter.com/discover/categorie...     NaN        NaN   \n",
       "2  https://www.kickstarter.com/discover/categorie...     NaN        NaN   \n",
       "\n",
       "  is_backing permissions  \n",
       "0        NaN         NaN  \n",
       "1        NaN         NaN  \n",
       "2        NaN         NaN  "
      ]
     },
     "execution_count": 4,
     "metadata": {},
     "output_type": "execute_result"
    }
   ],
   "source": [
    "# clean up the format and make a deep copy\n",
    "start_time = timeit.default_timer()\n",
    "\n",
    "\n",
    "df_2019_nov = df_2019_nov['data'].apply(pd.Series)\n",
    "df_2019_nov_copy = df_2019_nov.copy(deep=True)\n",
    "print(f'Total_rows: {len(df_2019_nov)}')\n",
    "\n",
    "\n",
    "elapsed = timeit.default_timer() - start_time\n",
    "print(f'time: {elapsed}')\n",
    "\n",
    "df_2019_nov.head(3)"
   ]
  },
  {
   "cell_type": "code",
   "execution_count": 5,
   "metadata": {},
   "outputs": [
    {
     "name": "stdout",
     "output_type": "stream",
     "text": [
      "[]\n",
      "[]\n"
     ]
    }
   ],
   "source": [
    "# Check if data has same features\n",
    "df_2019_nov_cols = df_2019_nov.columns\n",
    "columns_original  = ['id', 'photo', 'name', 'blurb', 'goal', 'pledged', 'state', 'slug', 'disable_communication', 'country', 'country_displayable_name', 'currency', 'currency_symbol', 'currency_trailing_code', 'deadline', 'state_changed_at', 'created_at', 'launched_at', 'staff_pick', 'is_starrable', 'backers_count', 'static_usd_rate', 'usd_pledged', 'converted_pledged_amount', 'fx_rate', 'current_currency', 'usd_type', 'creator', 'location', 'category', 'profile', 'spotlight', 'urls', 'source_url', 'friends', 'is_starred', 'is_backing', 'permissions']\n",
    "diff = list(set(df_2019_nov_cols) - set(columns_original))\n",
    "diff2 = list(set(columns_original) - set(df_2019_nov_cols))\n",
    "print(diff)\n",
    "print(diff2)"
   ]
  },
  {
   "cell_type": "code",
   "execution_count": 6,
   "metadata": {},
   "outputs": [
    {
     "data": {
      "text/plain": [
       "successful    119652\n",
       "failed         75100\n",
       "canceled        8681\n",
       "live            7350\n",
       "suspended        641\n",
       "Name: state, dtype: int64"
      ]
     },
     "execution_count": 6,
     "metadata": {},
     "output_type": "execute_result"
    }
   ],
   "source": [
    "# inspect canceled and suspended states\n",
    "df_2019_nov.state.value_counts()"
   ]
  },
  {
   "cell_type": "code",
   "execution_count": 7,
   "metadata": {},
   "outputs": [
    {
     "name": "stdout",
     "output_type": "stream",
     "text": [
      "Rows with duplicate project_id: 26889\n",
      "Total_rows after dropping duplicates and suspended/canceled states: 175213\n"
     ]
    }
   ],
   "source": [
    "# drop canceled and suspended states\n",
    "df_2019_nov.drop((df_2019_nov[((df_2019_nov.state == 'suspended') | \n",
    "                                         (df_2019_nov.state == 'canceled'))].index), inplace=True)\n",
    "\n",
    "# check for duplicates\n",
    "print(f\"Rows with duplicate project_id: {df_2019_nov.duplicated(['id']).sum()}\")\n",
    "\n",
    "# drop duplicates\n",
    "df_2019_nov.drop_duplicates(['id'], inplace=True)\n",
    "print(f'Total_rows after dropping duplicates and suspended/canceled states: {len(df_2019_nov)}')\n"
   ]
  },
  {
   "cell_type": "code",
   "execution_count": null,
   "metadata": {},
   "outputs": [],
   "source": [
    "# # get links to project and creator pages\n",
    "# start_time = timeit.default_timer()\n",
    "\n",
    "\n",
    "# df_2019_nov['project_link'] = 'no_val'\n",
    "# project_link_loc = df_2019_nov.columns.get_loc('project_link')\n",
    "# for n in range(len(df_2019_nov)):\n",
    "#     project_link = df_2019_nov.iloc[n].urls['web']['project']\n",
    "#     df_2019_nov.iat[n, project_link_loc] = project_link\n",
    "    \n",
    "# df_2019_nov['creator_link'] = 'no_val'\n",
    "# creator_link_loc = df_2019_nov.columns.get_loc('creator_link')\n",
    "# for n in range(len(df_2019_nov)):\n",
    "#     creator_link = df_2019_nov.iloc[n].creator['urls']['web']['user']\n",
    "#     df_2019_nov.iat[n, creator_link_loc] = creator_link  \n",
    "    \n",
    "    \n",
    "# elapsed = timeit.default_timer() - start_time\n",
    "# print(f'time: {elapsed}')"
   ]
  },
  {
   "cell_type": "code",
   "execution_count": null,
   "metadata": {},
   "outputs": [],
   "source": [
    "# # get main_category id\n",
    "# start_time = timeit.default_timer()\n",
    "\n",
    "\n",
    "# categories_map = {1:'Art',3:'Comics', 17:'Theater', 15:'Photography', \n",
    "#                 7:'Design', 6: 'Dance', 11:'Film & Video', 12:'Games', 16:'Technology', \n",
    "#                 13:'Journalism', 18:'Publishing', 9:'Fashion', 10:'Food', 14:'Music', 26:'Crafts'}\n",
    "# categories_df = pd.DataFrame(categories_map, index=[0])\n",
    "\n",
    "\n",
    "# df_2019_nov['main_category'] = 'no_value'\n",
    "# cat_loc = df_2019_nov.columns.get_loc('main_category')\n",
    "\n",
    "\n",
    "# for n in (range(len(df_2019_nov))):\n",
    "#     if 'parent_id' not in df_2019_nov.iloc[n]['category'].keys():\n",
    "#         cat_id = df_2019_nov.iloc[n]['category']['id']\n",
    "#         df_2019_nov.iat[n, cat_loc] = cat_id\n",
    "#     elif pd.isnull(df_2019_nov.iloc[n]['category']['parent_id']):\n",
    "#         cat_id = df_2019_nov.iloc[n]['category']['id']\n",
    "#         df_2019_nov.iat[n, cat_loc] = cat_id\n",
    "#     else:\n",
    "#         par_id = df_2019_nov.iloc[n]['category']['parent_id']\n",
    "#         df_2019_nov.iat[n, cat_loc] = par_id\n",
    "        \n",
    "# df_2019_nov['main_category'] = df_2019_nov['main_category'].apply(lambda x: categories_df[x])\n",
    "\n",
    "\n",
    "# elapsed = timeit.default_timer() - start_time\n",
    "# print(f'time: {elapsed}')\n",
    "\n",
    "# df_2019_nov.head(1)"
   ]
  },
  {
   "cell_type": "code",
   "execution_count": 8,
   "metadata": {},
   "outputs": [
    {
     "name": "stdout",
     "output_type": "stream",
     "text": [
      "Columns removed: ['creator', 'converted_pledged_amount', 'current_currency', 'fx_rate', 'slug', 'usd_type', 'category', 'created_at', 'currency_trailing_code', 'friends', 'photo', 'disable_communication', 'urls', 'permissions', 'location', 'currency_symbol', 'profile', 'is_backing', 'country_displayable_name', 'state_changed_at', 'is_starred', 'is_starrable', 'spotlight', 'source_url']\n"
     ]
    }
   ],
   "source": [
    "# keep these features\n",
    "df_main_feats = ['id', 'name', 'blurb', 'goal', 'pledged', 'state', 'country',\n",
    "'currency', 'deadline', 'launched_at', 'staff_pick', 'main_category',\n",
    "'backers_count', 'static_usd_rate', 'usd_pledged' ]\n",
    "# Drop these \n",
    "df_drop_feats = list(set(df_2019_nov_cols) - set(df_main_feats))\n",
    "print(f'Columns removed: {df_drop_feats}')\n",
    "\n",
    "# drop features\n",
    "df_2019_nov.drop(df_drop_feats, axis=1, inplace=True)"
   ]
  },
  {
   "cell_type": "code",
   "execution_count": 9,
   "metadata": {},
   "outputs": [],
   "source": [
    "# convert unix dates to datetime objects\n",
    "df_2019_nov.deadline = df_2019_nov.deadline.apply(lambda x: (datetime.fromtimestamp(x)))\n",
    "df_2019_nov.launched_at = df_2019_nov.launched_at.apply(lambda x: (datetime.fromtimestamp(x)))"
   ]
  },
  {
   "cell_type": "code",
   "execution_count": 10,
   "metadata": {},
   "outputs": [],
   "source": [
    "# rename columns\n",
    "df_2019_nov.rename(columns={'id':'project_id'}, inplace=True)\n",
    "df_2019_nov.rename(columns={'name':'project_name'}, inplace=True)\n",
    "df_2019_nov.rename(columns={'blurb':'project_description'}, inplace=True)\n",
    "df_2019_nov.rename(columns={'state':'outcome_state'}, inplace=True)\n"
   ]
  },
  {
   "cell_type": "code",
   "execution_count": 11,
   "metadata": {},
   "outputs": [],
   "source": [
    "# add project duration feature\n",
    "df_2019_nov['duration'] = df_2019_nov.deadline - df_2019_nov.launched_at\n",
    "df_2019_nov['days_from_launch'] =(df_2019_nov_collected_on - df_2019_nov.launched_at).apply(lambda x: x.days)\n",
    "\n",
    "# add feature 'in_mid_duration_range' indicating whether project is about halfway through\n",
    "df_2019_nov['duration_mid_point'] = df_2019_nov.duration.apply(lambda x: x.days) / 2\n",
    "df_2019_nov['lower_bound_mid_point_range'] = df_2019_nov.duration_mid_point.apply(lambda x: x - 5)\n",
    "df_2019_nov['upper_bound_mid_point_range'] = df_2019_nov.duration_mid_point.apply(lambda x: x + 5)\n",
    "df_2019_nov['in_mid_duration_range'] = df_2019_nov.days_from_launch.between(df_2019_nov.lower_bound_mid_point_range, df_2019_nov.upper_bound_mid_point_range)\n",
    "\n",
    "df_2019_nov.drop(['duration_mid_point', 'lower_bound_mid_point_range', 'upper_bound_mid_point_range'], axis=1, inplace=True)\n"
   ]
  },
  {
   "cell_type": "code",
   "execution_count": 20,
   "metadata": {},
   "outputs": [],
   "source": [
    "# df_2019_nov['duration'][0].quantile(.1)\n",
    "df_2019_nov['duration_10_percent'] = df_2019_nov.duration.apply(lambda x: x.days / 10 ) \n"
   ]
  },
  {
   "cell_type": "code",
   "execution_count": 21,
   "metadata": {},
   "outputs": [],
   "source": [
    "# add feature 'in_mid_duration_range' indicating whether project is about halfway through\n",
    "df_2019_nov['lower_bound'] = df_2019_nov.duration_10_percent.apply(lambda x: x if x < 5 else x - 5)\n",
    "df_2019_nov['upper_bound'] = df_2019_nov.duration_10_percent.apply(lambda x: x + 5)\n",
    "df_2019_nov['in_range'] = df_2019_nov.days_from_launch.between(df_2019_nov.lower_bound, df_2019_nov.upper_bound)\n",
    "\n",
    "# df_2019_nov.drop(['duration_mid_point', 'lower_bound_mid_point_range', 'upper_bound_mid_point_range'], axis=1, inplace=True)"
   ]
  },
  {
   "cell_type": "code",
   "execution_count": 22,
   "metadata": {},
   "outputs": [],
   "source": [
    "# calculate usd_goal\n",
    "df_2019_nov['usd_goal'] = df_2019_nov.goal * df_2019_nov.static_usd_rate\n"
   ]
  },
  {
   "cell_type": "code",
   "execution_count": 23,
   "metadata": {},
   "outputs": [
    {
     "name": "stdout",
     "output_type": "stream",
     "text": [
      "['project_id', 'project_name', 'project_description', 'goal', 'pledged', 'outcome_state', 'country', 'currency', 'deadline', 'launched_at', 'staff_pick', 'backers_count', 'static_usd_rate', 'usd_pledged', 'duration', 'days_from_launch', 'in_mid_duration_range', 'duration_10_percent', 'lower_bound', 'upper_bound', 'in_range', 'usd_goal']\n"
     ]
    },
    {
     "data": {
      "text/html": [
       "<div>\n",
       "<style scoped>\n",
       "    .dataframe tbody tr th:only-of-type {\n",
       "        vertical-align: middle;\n",
       "    }\n",
       "\n",
       "    .dataframe tbody tr th {\n",
       "        vertical-align: top;\n",
       "    }\n",
       "\n",
       "    .dataframe thead th {\n",
       "        text-align: right;\n",
       "    }\n",
       "</style>\n",
       "<table border=\"1\" class=\"dataframe\">\n",
       "  <thead>\n",
       "    <tr style=\"text-align: right;\">\n",
       "      <th></th>\n",
       "      <th>project_id</th>\n",
       "      <th>project_name</th>\n",
       "      <th>project_description</th>\n",
       "      <th>outcome_state</th>\n",
       "      <th>in_range</th>\n",
       "      <th>duration_10_percent</th>\n",
       "      <th>days_from_launch</th>\n",
       "      <th>usd_goal</th>\n",
       "      <th>usd_pledged</th>\n",
       "      <th>currency</th>\n",
       "      <th>launched_at</th>\n",
       "      <th>deadline</th>\n",
       "      <th>staff_pick</th>\n",
       "      <th>country</th>\n",
       "      <th>duration</th>\n",
       "      <th>backers_count</th>\n",
       "    </tr>\n",
       "  </thead>\n",
       "  <tbody>\n",
       "    <tr>\n",
       "      <th>0</th>\n",
       "      <td>117424629</td>\n",
       "      <td>Bring the Thunder Gumbo Art Car to Burning Man...</td>\n",
       "      <td>Help support the legendary B.O.O.G.A. mutant v...</td>\n",
       "      <td>successful</td>\n",
       "      <td>False</td>\n",
       "      <td>3.0</td>\n",
       "      <td>1596</td>\n",
       "      <td>6000.0</td>\n",
       "      <td>6223.0</td>\n",
       "      <td>USD</td>\n",
       "      <td>2015-07-01 02:10:04</td>\n",
       "      <td>2015-07-31 02:10:04</td>\n",
       "      <td>False</td>\n",
       "      <td>US</td>\n",
       "      <td>30 days</td>\n",
       "      <td>85</td>\n",
       "    </tr>\n",
       "  </tbody>\n",
       "</table>\n",
       "</div>"
      ],
      "text/plain": [
       "   project_id                                       project_name  \\\n",
       "0   117424629  Bring the Thunder Gumbo Art Car to Burning Man...   \n",
       "\n",
       "                                 project_description outcome_state  in_range  \\\n",
       "0  Help support the legendary B.O.O.G.A. mutant v...    successful     False   \n",
       "\n",
       "   duration_10_percent  days_from_launch  usd_goal usd_pledged currency  \\\n",
       "0                  3.0              1596    6000.0      6223.0      USD   \n",
       "\n",
       "          launched_at            deadline  staff_pick country duration  \\\n",
       "0 2015-07-01 02:10:04 2015-07-31 02:10:04       False      US  30 days   \n",
       "\n",
       "   backers_count  \n",
       "0             85  "
      ]
     },
     "execution_count": 23,
     "metadata": {},
     "output_type": "execute_result"
    }
   ],
   "source": [
    "# Replace goal and rearrange\n",
    "col_list = df_2019_nov.columns.to_list()\n",
    "print(col_list)\n",
    "col_list_rearrange = ['project_id', 'project_name', 'project_description', 'outcome_state', 'in_range',\n",
    "                      'duration_10_percent', 'days_from_launch', \n",
    "                      'usd_goal', 'usd_pledged', 'currency', 'launched_at', 'deadline', 'staff_pick', 'country', \n",
    "                      'duration' , 'backers_count']\n",
    "df_2019_nov = df_2019_nov[col_list_rearrange]\n",
    "df_2019_nov.head(1)\n",
    "                      "
   ]
  },
  {
   "cell_type": "code",
   "execution_count": 26,
   "metadata": {
    "collapsed": true
   },
   "outputs": [
    {
     "ename": "AttributeError",
     "evalue": "'str' object has no attribute 'strftime'",
     "output_type": "error",
     "traceback": [
      "\u001b[0;31m---------------------------------------------------------------------------\u001b[0m",
      "\u001b[0;31mAttributeError\u001b[0m                            Traceback (most recent call last)",
      "\u001b[0;32m<ipython-input-26-83ef01cb4ad6>\u001b[0m in \u001b[0;36m<module>\u001b[0;34m\u001b[0m\n\u001b[1;32m      2\u001b[0m \u001b[0;31m# convert datetime columns before exporting\u001b[0m\u001b[0;34m\u001b[0m\u001b[0;34m\u001b[0m\u001b[0;34m\u001b[0m\u001b[0m\n\u001b[1;32m      3\u001b[0m \u001b[0;31m# df_2019_nov.duration = df_2019_nov.duration.apply(lambda x: x.days)\u001b[0m\u001b[0;34m\u001b[0m\u001b[0;34m\u001b[0m\u001b[0;34m\u001b[0m\u001b[0m\n\u001b[0;32m----> 4\u001b[0;31m \u001b[0mdf_2019_nov\u001b[0m\u001b[0;34m.\u001b[0m\u001b[0mlaunched_at\u001b[0m \u001b[0;34m=\u001b[0m \u001b[0mdf_2019_nov\u001b[0m\u001b[0;34m.\u001b[0m\u001b[0mlaunched_at\u001b[0m\u001b[0;34m.\u001b[0m\u001b[0mapply\u001b[0m\u001b[0;34m(\u001b[0m\u001b[0;32mlambda\u001b[0m \u001b[0mx\u001b[0m\u001b[0;34m:\u001b[0m \u001b[0mx\u001b[0m\u001b[0;34m.\u001b[0m\u001b[0mstrftime\u001b[0m\u001b[0;34m(\u001b[0m\u001b[0;34m'%m-%d-%Y'\u001b[0m\u001b[0;34m)\u001b[0m\u001b[0;34m)\u001b[0m\u001b[0;34m\u001b[0m\u001b[0;34m\u001b[0m\u001b[0m\n\u001b[0m\u001b[1;32m      5\u001b[0m \u001b[0mdf_2019_nov\u001b[0m\u001b[0;34m.\u001b[0m\u001b[0mdeadline\u001b[0m \u001b[0;34m=\u001b[0m \u001b[0mdf_2019_nov\u001b[0m\u001b[0;34m.\u001b[0m\u001b[0mdeadline\u001b[0m\u001b[0;34m.\u001b[0m\u001b[0mapply\u001b[0m\u001b[0;34m(\u001b[0m\u001b[0;32mlambda\u001b[0m \u001b[0mx\u001b[0m\u001b[0;34m:\u001b[0m \u001b[0mx\u001b[0m\u001b[0;34m.\u001b[0m\u001b[0mstrftime\u001b[0m\u001b[0;34m(\u001b[0m\u001b[0;34m'%m-%d-%Y'\u001b[0m\u001b[0;34m)\u001b[0m\u001b[0;34m)\u001b[0m\u001b[0;34m\u001b[0m\u001b[0;34m\u001b[0m\u001b[0m\n",
      "\u001b[0;32m~/miniconda3/lib/python3.7/site-packages/pandas/core/series.py\u001b[0m in \u001b[0;36mapply\u001b[0;34m(self, func, convert_dtype, args, **kwds)\u001b[0m\n\u001b[1;32m   4043\u001b[0m             \u001b[0;32melse\u001b[0m\u001b[0;34m:\u001b[0m\u001b[0;34m\u001b[0m\u001b[0;34m\u001b[0m\u001b[0m\n\u001b[1;32m   4044\u001b[0m                 \u001b[0mvalues\u001b[0m \u001b[0;34m=\u001b[0m \u001b[0mself\u001b[0m\u001b[0;34m.\u001b[0m\u001b[0mastype\u001b[0m\u001b[0;34m(\u001b[0m\u001b[0mobject\u001b[0m\u001b[0;34m)\u001b[0m\u001b[0;34m.\u001b[0m\u001b[0mvalues\u001b[0m\u001b[0;34m\u001b[0m\u001b[0;34m\u001b[0m\u001b[0m\n\u001b[0;32m-> 4045\u001b[0;31m                 \u001b[0mmapped\u001b[0m \u001b[0;34m=\u001b[0m \u001b[0mlib\u001b[0m\u001b[0;34m.\u001b[0m\u001b[0mmap_infer\u001b[0m\u001b[0;34m(\u001b[0m\u001b[0mvalues\u001b[0m\u001b[0;34m,\u001b[0m \u001b[0mf\u001b[0m\u001b[0;34m,\u001b[0m \u001b[0mconvert\u001b[0m\u001b[0;34m=\u001b[0m\u001b[0mconvert_dtype\u001b[0m\u001b[0;34m)\u001b[0m\u001b[0;34m\u001b[0m\u001b[0;34m\u001b[0m\u001b[0m\n\u001b[0m\u001b[1;32m   4046\u001b[0m \u001b[0;34m\u001b[0m\u001b[0m\n\u001b[1;32m   4047\u001b[0m         \u001b[0;32mif\u001b[0m \u001b[0mlen\u001b[0m\u001b[0;34m(\u001b[0m\u001b[0mmapped\u001b[0m\u001b[0;34m)\u001b[0m \u001b[0;32mand\u001b[0m \u001b[0misinstance\u001b[0m\u001b[0;34m(\u001b[0m\u001b[0mmapped\u001b[0m\u001b[0;34m[\u001b[0m\u001b[0;36m0\u001b[0m\u001b[0;34m]\u001b[0m\u001b[0;34m,\u001b[0m \u001b[0mSeries\u001b[0m\u001b[0;34m)\u001b[0m\u001b[0;34m:\u001b[0m\u001b[0;34m\u001b[0m\u001b[0;34m\u001b[0m\u001b[0m\n",
      "\u001b[0;32mpandas/_libs/lib.pyx\u001b[0m in \u001b[0;36mpandas._libs.lib.map_infer\u001b[0;34m()\u001b[0m\n",
      "\u001b[0;32m<ipython-input-26-83ef01cb4ad6>\u001b[0m in \u001b[0;36m<lambda>\u001b[0;34m(x)\u001b[0m\n\u001b[1;32m      2\u001b[0m \u001b[0;31m# convert datetime columns before exporting\u001b[0m\u001b[0;34m\u001b[0m\u001b[0;34m\u001b[0m\u001b[0;34m\u001b[0m\u001b[0m\n\u001b[1;32m      3\u001b[0m \u001b[0;31m# df_2019_nov.duration = df_2019_nov.duration.apply(lambda x: x.days)\u001b[0m\u001b[0;34m\u001b[0m\u001b[0;34m\u001b[0m\u001b[0;34m\u001b[0m\u001b[0m\n\u001b[0;32m----> 4\u001b[0;31m \u001b[0mdf_2019_nov\u001b[0m\u001b[0;34m.\u001b[0m\u001b[0mlaunched_at\u001b[0m \u001b[0;34m=\u001b[0m \u001b[0mdf_2019_nov\u001b[0m\u001b[0;34m.\u001b[0m\u001b[0mlaunched_at\u001b[0m\u001b[0;34m.\u001b[0m\u001b[0mapply\u001b[0m\u001b[0;34m(\u001b[0m\u001b[0;32mlambda\u001b[0m \u001b[0mx\u001b[0m\u001b[0;34m:\u001b[0m \u001b[0mx\u001b[0m\u001b[0;34m.\u001b[0m\u001b[0mstrftime\u001b[0m\u001b[0;34m(\u001b[0m\u001b[0;34m'%m-%d-%Y'\u001b[0m\u001b[0;34m)\u001b[0m\u001b[0;34m)\u001b[0m\u001b[0;34m\u001b[0m\u001b[0;34m\u001b[0m\u001b[0m\n\u001b[0m\u001b[1;32m      5\u001b[0m \u001b[0mdf_2019_nov\u001b[0m\u001b[0;34m.\u001b[0m\u001b[0mdeadline\u001b[0m \u001b[0;34m=\u001b[0m \u001b[0mdf_2019_nov\u001b[0m\u001b[0;34m.\u001b[0m\u001b[0mdeadline\u001b[0m\u001b[0;34m.\u001b[0m\u001b[0mapply\u001b[0m\u001b[0;34m(\u001b[0m\u001b[0;32mlambda\u001b[0m \u001b[0mx\u001b[0m\u001b[0;34m:\u001b[0m \u001b[0mx\u001b[0m\u001b[0;34m.\u001b[0m\u001b[0mstrftime\u001b[0m\u001b[0;34m(\u001b[0m\u001b[0;34m'%m-%d-%Y'\u001b[0m\u001b[0;34m)\u001b[0m\u001b[0;34m)\u001b[0m\u001b[0;34m\u001b[0m\u001b[0;34m\u001b[0m\u001b[0m\n",
      "\u001b[0;31mAttributeError\u001b[0m: 'str' object has no attribute 'strftime'"
     ]
    }
   ],
   "source": [
    "df_2019_nov_copy = df_2019_nov.copy(deep=True)\n",
    "# convert datetime columns before exporting\n",
    "# df_2019_nov.duration = df_2019_nov.duration.apply(lambda x: x.days) \n",
    "df_2019_nov.launched_at = df_2019_nov.launched_at.apply(lambda x: x.strftime('%m-%d-%Y'))\n",
    "df_2019_nov.deadline = df_2019_nov.deadline.apply(lambda x: x.strftime('%m-%d-%Y'))"
   ]
  },
  {
   "cell_type": "code",
   "execution_count": 29,
   "metadata": {},
   "outputs": [],
   "source": [
    "# export cleaned dataframe to csv\n",
    "df_2019_nov.to_csv('clean_datasets_10/main_df_2019_nov.csv', index=False)"
   ]
  },
  {
   "cell_type": "code",
   "execution_count": null,
   "metadata": {},
   "outputs": [],
   "source": []
  }
 ],
 "metadata": {
  "kernelspec": {
   "display_name": "Python 3",
   "language": "python",
   "name": "python3"
  },
  "language_info": {
   "codemirror_mode": {
    "name": "ipython",
    "version": 3
   },
   "file_extension": ".py",
   "mimetype": "text/x-python",
   "name": "python",
   "nbconvert_exporter": "python",
   "pygments_lexer": "ipython3",
   "version": "3.7.5"
  }
 },
 "nbformat": 4,
 "nbformat_minor": 2
}
