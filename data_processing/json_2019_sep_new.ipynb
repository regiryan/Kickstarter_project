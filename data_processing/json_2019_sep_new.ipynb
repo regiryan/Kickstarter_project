{
 "cells": [
  {
   "cell_type": "code",
   "execution_count": 1,
   "metadata": {},
   "outputs": [],
   "source": [
    "import pandas as pd\n",
    "pd.set_option('display.max_columns', 500)\n",
    "from datetime import datetime\n",
    "import numpy as np\n",
    "import timeit\n",
    "import json"
   ]
  },
  {
   "cell_type": "code",
   "execution_count": 2,
   "metadata": {},
   "outputs": [
    {
     "name": "stdout",
     "output_type": "stream",
     "text": [
      "time: 107.045443821\n"
     ]
    }
   ],
   "source": [
    "start_time = timeit.default_timer()\n",
    "\n",
    "\n",
    "df_2019_sep = pd.read_json('json_datasets/Kickstarter_2019-09-12T03_20_06_215Z.json', lines=True)\n",
    "\n",
    "\n",
    "elapsed = timeit.default_timer() - start_time\n",
    "print(f'time: {elapsed}')"
   ]
  },
  {
   "cell_type": "code",
   "execution_count": 3,
   "metadata": {},
   "outputs": [],
   "source": [
    "# Save the creation datetime for calculating age of project later\n",
    "df_2019_sep_collected_on = datetime(2019, 9, 12)"
   ]
  },
  {
   "cell_type": "code",
   "execution_count": 4,
   "metadata": {},
   "outputs": [
    {
     "name": "stdout",
     "output_type": "stream",
     "text": [
      "Total_rows: 213657\n",
      "time: 258.693635383\n"
     ]
    },
    {
     "data": {
      "text/html": [
       "<div>\n",
       "<style scoped>\n",
       "    .dataframe tbody tr th:only-of-type {\n",
       "        vertical-align: middle;\n",
       "    }\n",
       "\n",
       "    .dataframe tbody tr th {\n",
       "        vertical-align: top;\n",
       "    }\n",
       "\n",
       "    .dataframe thead th {\n",
       "        text-align: right;\n",
       "    }\n",
       "</style>\n",
       "<table border=\"1\" class=\"dataframe\">\n",
       "  <thead>\n",
       "    <tr style=\"text-align: right;\">\n",
       "      <th></th>\n",
       "      <th>id</th>\n",
       "      <th>photo</th>\n",
       "      <th>name</th>\n",
       "      <th>blurb</th>\n",
       "      <th>goal</th>\n",
       "      <th>pledged</th>\n",
       "      <th>state</th>\n",
       "      <th>slug</th>\n",
       "      <th>disable_communication</th>\n",
       "      <th>country</th>\n",
       "      <th>currency</th>\n",
       "      <th>currency_symbol</th>\n",
       "      <th>currency_trailing_code</th>\n",
       "      <th>deadline</th>\n",
       "      <th>state_changed_at</th>\n",
       "      <th>created_at</th>\n",
       "      <th>launched_at</th>\n",
       "      <th>staff_pick</th>\n",
       "      <th>is_starrable</th>\n",
       "      <th>backers_count</th>\n",
       "      <th>static_usd_rate</th>\n",
       "      <th>usd_pledged</th>\n",
       "      <th>converted_pledged_amount</th>\n",
       "      <th>fx_rate</th>\n",
       "      <th>current_currency</th>\n",
       "      <th>usd_type</th>\n",
       "      <th>creator</th>\n",
       "      <th>location</th>\n",
       "      <th>category</th>\n",
       "      <th>profile</th>\n",
       "      <th>spotlight</th>\n",
       "      <th>urls</th>\n",
       "      <th>source_url</th>\n",
       "      <th>friends</th>\n",
       "      <th>is_starred</th>\n",
       "      <th>is_backing</th>\n",
       "      <th>permissions</th>\n",
       "    </tr>\n",
       "  </thead>\n",
       "  <tbody>\n",
       "    <tr>\n",
       "      <th>0</th>\n",
       "      <td>1257739938</td>\n",
       "      <td>{'key': 'assets/024/662/100/c07f6483eca0a67c3b...</td>\n",
       "      <td>COASTIX: Our Coaster. Your Pix. Infinite Possi...</td>\n",
       "      <td>Bring your favorite social media photos and ar...</td>\n",
       "      <td>5000.0</td>\n",
       "      <td>5545.29</td>\n",
       "      <td>successful</td>\n",
       "      <td>coastix-our-coaster-your-pix-infinite-possibil...</td>\n",
       "      <td>False</td>\n",
       "      <td>CA</td>\n",
       "      <td>CAD</td>\n",
       "      <td>$</td>\n",
       "      <td>True</td>\n",
       "      <td>1557403845</td>\n",
       "      <td>1557403845</td>\n",
       "      <td>1519358040</td>\n",
       "      <td>1554811845</td>\n",
       "      <td>False</td>\n",
       "      <td>False</td>\n",
       "      <td>77</td>\n",
       "      <td>0.74748</td>\n",
       "      <td>4144.9916501601</td>\n",
       "      <td>4112</td>\n",
       "      <td>0.760917</td>\n",
       "      <td>USD</td>\n",
       "      <td>domestic</td>\n",
       "      <td>{'id': 413554068, 'name': 'Austin K.', 'slug':...</td>\n",
       "      <td>{'id': 8775, 'name': 'Calgary', 'slug': 'calga...</td>\n",
       "      <td>{'id': 28, 'name': 'Product Design', 'slug': '...</td>\n",
       "      <td>{'id': 3317372, 'project_id': 3317372, 'state'...</td>\n",
       "      <td>True</td>\n",
       "      <td>{'web': {'project': 'https://www.kickstarter.c...</td>\n",
       "      <td>https://www.kickstarter.com/discover/categorie...</td>\n",
       "      <td>NaN</td>\n",
       "      <td>NaN</td>\n",
       "      <td>NaN</td>\n",
       "      <td>NaN</td>\n",
       "    </tr>\n",
       "    <tr>\n",
       "      <th>1</th>\n",
       "      <td>160619929</td>\n",
       "      <td>{'key': 'assets/012/305/450/5a814a89611f186edb...</td>\n",
       "      <td>Photo Caffe</td>\n",
       "      <td>Photo Cafe is a hybrid of a photography studio...</td>\n",
       "      <td>500000.0</td>\n",
       "      <td>0.00</td>\n",
       "      <td>failed</td>\n",
       "      <td>photo-caffe</td>\n",
       "      <td>False</td>\n",
       "      <td>US</td>\n",
       "      <td>USD</td>\n",
       "      <td>$</td>\n",
       "      <td>True</td>\n",
       "      <td>1452631347</td>\n",
       "      <td>1452631348</td>\n",
       "      <td>1447287592</td>\n",
       "      <td>1447447347</td>\n",
       "      <td>False</td>\n",
       "      <td>False</td>\n",
       "      <td>0</td>\n",
       "      <td>1.00000</td>\n",
       "      <td>0.0</td>\n",
       "      <td>0</td>\n",
       "      <td>1.000000</td>\n",
       "      <td>USD</td>\n",
       "      <td>domestic</td>\n",
       "      <td>{'id': 1633535727, 'name': 'David Seybold', 'i...</td>\n",
       "      <td>{'id': 2484861, 'name': 'Roseville', 'slug': '...</td>\n",
       "      <td>{'id': 276, 'name': 'Fine Art', 'slug': 'photo...</td>\n",
       "      <td>{'id': 2224280, 'project_id': 2224280, 'state'...</td>\n",
       "      <td>False</td>\n",
       "      <td>{'web': {'project': 'https://www.kickstarter.c...</td>\n",
       "      <td>https://www.kickstarter.com/discover/categorie...</td>\n",
       "      <td>NaN</td>\n",
       "      <td>NaN</td>\n",
       "      <td>NaN</td>\n",
       "      <td>NaN</td>\n",
       "    </tr>\n",
       "    <tr>\n",
       "      <th>2</th>\n",
       "      <td>452313895</td>\n",
       "      <td>{'key': 'assets/012/294/084/27afadb270e23d7ffe...</td>\n",
       "      <td>Artemis: a collaboration captured on medium fo...</td>\n",
       "      <td>A collaboration between Claire Pettibone, Trum...</td>\n",
       "      <td>2500.0</td>\n",
       "      <td>10.00</td>\n",
       "      <td>failed</td>\n",
       "      <td>artemis-a-collaboration-captured-on-medium-format</td>\n",
       "      <td>False</td>\n",
       "      <td>US</td>\n",
       "      <td>USD</td>\n",
       "      <td>$</td>\n",
       "      <td>True</td>\n",
       "      <td>1447269352</td>\n",
       "      <td>1447269352</td>\n",
       "      <td>1446303312</td>\n",
       "      <td>1446750952</td>\n",
       "      <td>False</td>\n",
       "      <td>False</td>\n",
       "      <td>1</td>\n",
       "      <td>1.00000</td>\n",
       "      <td>10.0</td>\n",
       "      <td>10</td>\n",
       "      <td>1.000000</td>\n",
       "      <td>USD</td>\n",
       "      <td>domestic</td>\n",
       "      <td>{'id': 1186970994, 'name': 'Travis Kaenel', 'i...</td>\n",
       "      <td>{'id': 2442047, 'name': 'Los Angeles', 'slug':...</td>\n",
       "      <td>{'id': 276, 'name': 'Fine Art', 'slug': 'photo...</td>\n",
       "      <td>{'id': 2202735, 'project_id': 2202735, 'state'...</td>\n",
       "      <td>False</td>\n",
       "      <td>{'web': {'project': 'https://www.kickstarter.c...</td>\n",
       "      <td>https://www.kickstarter.com/discover/categorie...</td>\n",
       "      <td>NaN</td>\n",
       "      <td>NaN</td>\n",
       "      <td>NaN</td>\n",
       "      <td>NaN</td>\n",
       "    </tr>\n",
       "  </tbody>\n",
       "</table>\n",
       "</div>"
      ],
      "text/plain": [
       "           id                                              photo  \\\n",
       "0  1257739938  {'key': 'assets/024/662/100/c07f6483eca0a67c3b...   \n",
       "1   160619929  {'key': 'assets/012/305/450/5a814a89611f186edb...   \n",
       "2   452313895  {'key': 'assets/012/294/084/27afadb270e23d7ffe...   \n",
       "\n",
       "                                                name  \\\n",
       "0  COASTIX: Our Coaster. Your Pix. Infinite Possi...   \n",
       "1                                        Photo Caffe   \n",
       "2  Artemis: a collaboration captured on medium fo...   \n",
       "\n",
       "                                               blurb      goal  pledged  \\\n",
       "0  Bring your favorite social media photos and ar...    5000.0  5545.29   \n",
       "1  Photo Cafe is a hybrid of a photography studio...  500000.0     0.00   \n",
       "2  A collaboration between Claire Pettibone, Trum...    2500.0    10.00   \n",
       "\n",
       "        state                                               slug  \\\n",
       "0  successful  coastix-our-coaster-your-pix-infinite-possibil...   \n",
       "1      failed                                        photo-caffe   \n",
       "2      failed  artemis-a-collaboration-captured-on-medium-format   \n",
       "\n",
       "   disable_communication country currency currency_symbol  \\\n",
       "0                  False      CA      CAD               $   \n",
       "1                  False      US      USD               $   \n",
       "2                  False      US      USD               $   \n",
       "\n",
       "   currency_trailing_code    deadline  state_changed_at  created_at  \\\n",
       "0                    True  1557403845        1557403845  1519358040   \n",
       "1                    True  1452631347        1452631348  1447287592   \n",
       "2                    True  1447269352        1447269352  1446303312   \n",
       "\n",
       "   launched_at  staff_pick  is_starrable  backers_count  static_usd_rate  \\\n",
       "0   1554811845       False         False             77          0.74748   \n",
       "1   1447447347       False         False              0          1.00000   \n",
       "2   1446750952       False         False              1          1.00000   \n",
       "\n",
       "       usd_pledged  converted_pledged_amount   fx_rate current_currency  \\\n",
       "0  4144.9916501601                      4112  0.760917              USD   \n",
       "1              0.0                         0  1.000000              USD   \n",
       "2             10.0                        10  1.000000              USD   \n",
       "\n",
       "   usd_type                                            creator  \\\n",
       "0  domestic  {'id': 413554068, 'name': 'Austin K.', 'slug':...   \n",
       "1  domestic  {'id': 1633535727, 'name': 'David Seybold', 'i...   \n",
       "2  domestic  {'id': 1186970994, 'name': 'Travis Kaenel', 'i...   \n",
       "\n",
       "                                            location  \\\n",
       "0  {'id': 8775, 'name': 'Calgary', 'slug': 'calga...   \n",
       "1  {'id': 2484861, 'name': 'Roseville', 'slug': '...   \n",
       "2  {'id': 2442047, 'name': 'Los Angeles', 'slug':...   \n",
       "\n",
       "                                            category  \\\n",
       "0  {'id': 28, 'name': 'Product Design', 'slug': '...   \n",
       "1  {'id': 276, 'name': 'Fine Art', 'slug': 'photo...   \n",
       "2  {'id': 276, 'name': 'Fine Art', 'slug': 'photo...   \n",
       "\n",
       "                                             profile  spotlight  \\\n",
       "0  {'id': 3317372, 'project_id': 3317372, 'state'...       True   \n",
       "1  {'id': 2224280, 'project_id': 2224280, 'state'...      False   \n",
       "2  {'id': 2202735, 'project_id': 2202735, 'state'...      False   \n",
       "\n",
       "                                                urls  \\\n",
       "0  {'web': {'project': 'https://www.kickstarter.c...   \n",
       "1  {'web': {'project': 'https://www.kickstarter.c...   \n",
       "2  {'web': {'project': 'https://www.kickstarter.c...   \n",
       "\n",
       "                                          source_url friends is_starred  \\\n",
       "0  https://www.kickstarter.com/discover/categorie...     NaN        NaN   \n",
       "1  https://www.kickstarter.com/discover/categorie...     NaN        NaN   \n",
       "2  https://www.kickstarter.com/discover/categorie...     NaN        NaN   \n",
       "\n",
       "  is_backing permissions  \n",
       "0        NaN         NaN  \n",
       "1        NaN         NaN  \n",
       "2        NaN         NaN  "
      ]
     },
     "execution_count": 4,
     "metadata": {},
     "output_type": "execute_result"
    }
   ],
   "source": [
    "# clean up the format and make a deep copy\n",
    "start_time = timeit.default_timer()\n",
    "\n",
    "\n",
    "df_2019_sep = df_2019_sep['data'].apply(pd.Series)\n",
    "df_2019_sep_copy = df_2019_sep.copy(deep=True)\n",
    "print(f'Total_rows: {len(df_2019_sep)}')\n",
    "\n",
    "\n",
    "elapsed = timeit.default_timer() - start_time\n",
    "print(f'time: {elapsed}')\n",
    "\n",
    "df_2019_sep.head(3)"
   ]
  },
  {
   "cell_type": "code",
   "execution_count": 5,
   "metadata": {},
   "outputs": [
    {
     "name": "stdout",
     "output_type": "stream",
     "text": [
      "[]\n",
      "['country_displayable_name']\n"
     ]
    }
   ],
   "source": [
    "# Check if data has same features\n",
    "df_2019_sep_cols = df_2019_sep.columns\n",
    "columns_original  = ['id', 'photo', 'name', 'blurb', 'goal', 'pledged', 'state', 'slug', 'disable_communication', 'country', 'country_displayable_name', 'currency', 'currency_symbol', 'currency_trailing_code', 'deadline', 'state_changed_at', 'created_at', 'launched_at', 'staff_pick', 'is_starrable', 'backers_count', 'static_usd_rate', 'usd_pledged', 'converted_pledged_amount', 'fx_rate', 'current_currency', 'usd_type', 'creator', 'location', 'category', 'profile', 'spotlight', 'urls', 'source_url', 'friends', 'is_starred', 'is_backing', 'permissions']\n",
    "diff = list(set(df_2019_sep_cols) - set(columns_original))\n",
    "diff2 = list(set(columns_original) - set(df_2019_sep_cols))\n",
    "print(diff)\n",
    "print(diff2)"
   ]
  },
  {
   "cell_type": "code",
   "execution_count": 6,
   "metadata": {},
   "outputs": [
    {
     "data": {
      "text/plain": [
       "successful    121978\n",
       "failed         75634\n",
       "canceled        8725\n",
       "live            6679\n",
       "suspended        641\n",
       "Name: state, dtype: int64"
      ]
     },
     "execution_count": 6,
     "metadata": {},
     "output_type": "execute_result"
    }
   ],
   "source": [
    "# inspect canceled and suspended states\n",
    "df_2019_sep.state.value_counts()"
   ]
  },
  {
   "cell_type": "code",
   "execution_count": 7,
   "metadata": {},
   "outputs": [
    {
     "name": "stdout",
     "output_type": "stream",
     "text": [
      "Rows with duplicate project_id: 27304\n",
      "Total_rows after dropping duplicates and suspended/canceled states: 176987\n"
     ]
    }
   ],
   "source": [
    "# drop canceled and suspended states\n",
    "df_2019_sep.drop((df_2019_sep[((df_2019_sep.state == 'suspended') | \n",
    "                                         (df_2019_sep.state == 'canceled'))].index), inplace=True)\n",
    "\n",
    "# check for duplicates\n",
    "print(f\"Rows with duplicate project_id: {df_2019_sep.duplicated(['id']).sum()}\")\n",
    "\n",
    "# drop duplicates\n",
    "df_2019_sep.drop_duplicates(['id'], inplace=True)\n",
    "print(f'Total_rows after dropping duplicates and suspended/canceled states: {len(df_2019_sep)}')\n"
   ]
  },
  {
   "cell_type": "code",
   "execution_count": 8,
   "metadata": {},
   "outputs": [],
   "source": [
    "# # get links to project and creator pages\n",
    "# start_time = timeit.default_timer()\n",
    "\n",
    "\n",
    "# df_2019_sep['project_link'] = 'no_val'\n",
    "# project_link_loc = df_2019_sep.columns.get_loc('project_link')\n",
    "# for n in range(len(df_2019_sep)):\n",
    "#     project_link = df_2019_sep.iloc[n].urls['web']['project']\n",
    "#     df_2019_sep.iat[n, project_link_loc] = project_link\n",
    "    \n",
    "# df_2019_sep['creator_link'] = 'no_val'\n",
    "# creator_link_loc = df_2019_sep.columns.get_loc('creator_link')\n",
    "# for n in range(len(df_2019_sep)):\n",
    "#     creator_link = df_2019_sep.iloc[n].creator['urls']['web']['user']\n",
    "#     df_2019_sep.iat[n, creator_link_loc] = creator_link  \n",
    "    \n",
    "    \n",
    "# elapsed = timeit.default_timer() - start_time\n",
    "# print(f'time: {elapsed}')"
   ]
  },
  {
   "cell_type": "code",
   "execution_count": 9,
   "metadata": {},
   "outputs": [],
   "source": [
    "# # get main_category id\n",
    "# start_time = timeit.default_timer()\n",
    "\n",
    "\n",
    "# categories_map = {1:'Art',3:'Comics', 17:'Theater', 15:'Photography', \n",
    "#                 7:'Design', 6: 'Dance', 11:'Film & Video', 12:'Games', 16:'Technology', \n",
    "#                 13:'Journalism', 18:'Publishing', 9:'Fashion', 10:'Food', 14:'Music', 26:'Crafts'}\n",
    "# categories_df = pd.DataFrame(categories_map, index=[0])\n",
    "\n",
    "\n",
    "# df_2019_sep['main_category'] = 'no_value'\n",
    "# cat_loc = df_2019_sep.columns.get_loc('main_category')\n",
    "\n",
    "\n",
    "# for n in (range(len(df_2019_sep))):\n",
    "#     if 'parent_id' not in df_2019_sep.iloc[n]['category'].keys():\n",
    "#         cat_id = df_2019_sep.iloc[n]['category']['id']\n",
    "#         df_2019_sep.iat[n, cat_loc] = cat_id\n",
    "#     elif pd.isnull(df_2019_sep.iloc[n]['category']['parent_id']):\n",
    "#         cat_id = df_2019_sep.iloc[n]['category']['id']\n",
    "#         df_2019_sep.iat[n, cat_loc] = cat_id\n",
    "#     else:\n",
    "#         par_id = df_2019_sep.iloc[n]['category']['parent_id']\n",
    "#         df_2019_sep.iat[n, cat_loc] = par_id\n",
    "        \n",
    "# df_2019_sep['main_category'] = df_2019_sep['main_category'].apply(lambda x: categories_df[x])\n",
    "\n",
    "\n",
    "# elapsed = timeit.default_timer() - start_time\n",
    "# print(f'time: {elapsed}')\n",
    "\n",
    "# df_2019_sep.head(1)"
   ]
  },
  {
   "cell_type": "code",
   "execution_count": 10,
   "metadata": {},
   "outputs": [
    {
     "name": "stdout",
     "output_type": "stream",
     "text": [
      "Columns removed: ['currency_symbol', 'currency_trailing_code', 'disable_communication', 'slug', 'is_starred', 'photo', 'urls', 'created_at', 'current_currency', 'usd_type', 'location', 'is_starrable', 'fx_rate', 'category', 'permissions', 'spotlight', 'is_backing', 'friends', 'state_changed_at', 'profile', 'creator', 'source_url', 'converted_pledged_amount']\n"
     ]
    }
   ],
   "source": [
    "# keep these features\n",
    "df_main_feats = ['id', 'name', 'blurb', 'goal', 'pledged', 'state', 'country',\n",
    "'currency', 'deadline', 'launched_at', 'staff_pick', 'main_category',\n",
    "'backers_count', 'static_usd_rate', 'usd_pledged' ]\n",
    "# Drop these \n",
    "df_drop_feats = list(set(df_2019_sep_cols) - set(df_main_feats))\n",
    "print(f'Columns removed: {df_drop_feats}')\n",
    "\n",
    "# drop features\n",
    "df_2019_sep.drop(df_drop_feats, axis=1, inplace=True)"
   ]
  },
  {
   "cell_type": "code",
   "execution_count": 11,
   "metadata": {},
   "outputs": [],
   "source": [
    "# convert unix dates to datetime objects\n",
    "df_2019_sep.deadline = df_2019_sep.deadline.apply(lambda x: (datetime.fromtimestamp(x)))\n",
    "df_2019_sep.launched_at = df_2019_sep.launched_at.apply(lambda x: (datetime.fromtimestamp(x)))"
   ]
  },
  {
   "cell_type": "code",
   "execution_count": 12,
   "metadata": {},
   "outputs": [],
   "source": [
    "# rename columns\n",
    "df_2019_sep.rename(columns={'id':'project_id'}, inplace=True)\n",
    "df_2019_sep.rename(columns={'name':'project_name'}, inplace=True)\n",
    "df_2019_sep.rename(columns={'blurb':'project_description'}, inplace=True)\n",
    "df_2019_sep.rename(columns={'state':'outcome_state'}, inplace=True)\n"
   ]
  },
  {
   "cell_type": "code",
   "execution_count": 13,
   "metadata": {},
   "outputs": [],
   "source": [
    "# add project duration feature\n",
    "df_2019_sep['duration'] = df_2019_sep.deadline - df_2019_sep.launched_at\n",
    "df_2019_sep['days_from_launch'] =(df_2019_sep_collected_on - df_2019_sep.launched_at).apply(lambda x: x.days)\n",
    "\n",
    "# add feature 'in_mid_duration_range' indicating whether project is about halfway through\n",
    "df_2019_sep['duration_mid_point'] = df_2019_sep.duration.apply(lambda x: x.days) / 2\n",
    "df_2019_sep['lower_bound_mid_point_range'] = df_2019_sep.duration_mid_point.apply(lambda x: x - 5)\n",
    "df_2019_sep['upper_bound_mid_point_range'] = df_2019_sep.duration_mid_point.apply(lambda x: x + 5)\n",
    "df_2019_sep['in_mid_duration_range'] = df_2019_sep.days_from_launch.between(df_2019_sep.lower_bound_mid_point_range, df_2019_sep.upper_bound_mid_point_range)\n",
    "\n",
    "df_2019_sep.drop(['duration_mid_point', 'lower_bound_mid_point_range', 'upper_bound_mid_point_range'], axis=1, inplace=True)\n"
   ]
  },
  {
   "cell_type": "code",
   "execution_count": 14,
   "metadata": {},
   "outputs": [],
   "source": [
    "# df_2019_sep['duration'][0].quantile(.1)\n",
    "df_2019_sep['duration_10_percent'] = df_2019_sep.duration.apply(lambda x: x.days / 10 ) \n"
   ]
  },
  {
   "cell_type": "code",
   "execution_count": 15,
   "metadata": {},
   "outputs": [],
   "source": [
    "# add feature 'in_mid_duration_range' indicating whether project is about halfway through\n",
    "df_2019_sep['lower_bound'] = df_2019_sep.duration_10_percent.apply(lambda x: x if x < 5 else x - 5)\n",
    "df_2019_sep['upper_bound'] = df_2019_sep.duration_10_percent.apply(lambda x: x + 5)\n",
    "df_2019_sep['in_range'] = df_2019_sep.days_from_launch.between(df_2019_sep.lower_bound, df_2019_sep.upper_bound)\n",
    "\n",
    "# df_2019_sep.drop(['duration_mid_point', 'lower_bound_mid_point_range', 'upper_bound_mid_point_range'], axis=1, inplace=True)"
   ]
  },
  {
   "cell_type": "code",
   "execution_count": 16,
   "metadata": {},
   "outputs": [],
   "source": [
    "# calculate usd_goal\n",
    "df_2019_sep['usd_goal'] = df_2019_sep.goal * df_2019_sep.static_usd_rate\n"
   ]
  },
  {
   "cell_type": "code",
   "execution_count": 17,
   "metadata": {},
   "outputs": [
    {
     "name": "stdout",
     "output_type": "stream",
     "text": [
      "['project_id', 'project_name', 'project_description', 'goal', 'pledged', 'outcome_state', 'country', 'currency', 'deadline', 'launched_at', 'staff_pick', 'backers_count', 'static_usd_rate', 'usd_pledged', 'duration', 'days_from_launch', 'in_mid_duration_range', 'duration_10_percent', 'lower_bound', 'upper_bound', 'in_range', 'usd_goal']\n"
     ]
    },
    {
     "data": {
      "text/html": [
       "<div>\n",
       "<style scoped>\n",
       "    .dataframe tbody tr th:only-of-type {\n",
       "        vertical-align: middle;\n",
       "    }\n",
       "\n",
       "    .dataframe tbody tr th {\n",
       "        vertical-align: top;\n",
       "    }\n",
       "\n",
       "    .dataframe thead th {\n",
       "        text-align: right;\n",
       "    }\n",
       "</style>\n",
       "<table border=\"1\" class=\"dataframe\">\n",
       "  <thead>\n",
       "    <tr style=\"text-align: right;\">\n",
       "      <th></th>\n",
       "      <th>project_id</th>\n",
       "      <th>project_name</th>\n",
       "      <th>project_description</th>\n",
       "      <th>outcome_state</th>\n",
       "      <th>in_range</th>\n",
       "      <th>duration_10_percent</th>\n",
       "      <th>days_from_launch</th>\n",
       "      <th>usd_goal</th>\n",
       "      <th>usd_pledged</th>\n",
       "      <th>currency</th>\n",
       "      <th>launched_at</th>\n",
       "      <th>deadline</th>\n",
       "      <th>staff_pick</th>\n",
       "      <th>country</th>\n",
       "      <th>duration</th>\n",
       "      <th>backers_count</th>\n",
       "    </tr>\n",
       "  </thead>\n",
       "  <tbody>\n",
       "    <tr>\n",
       "      <th>0</th>\n",
       "      <td>1257739938</td>\n",
       "      <td>COASTIX: Our Coaster. Your Pix. Infinite Possi...</td>\n",
       "      <td>Bring your favorite social media photos and ar...</td>\n",
       "      <td>successful</td>\n",
       "      <td>False</td>\n",
       "      <td>3.0</td>\n",
       "      <td>155</td>\n",
       "      <td>3737.39845</td>\n",
       "      <td>4144.9916501601</td>\n",
       "      <td>CAD</td>\n",
       "      <td>2019-04-09 08:10:45</td>\n",
       "      <td>2019-05-09 08:10:45</td>\n",
       "      <td>False</td>\n",
       "      <td>CA</td>\n",
       "      <td>30 days</td>\n",
       "      <td>77</td>\n",
       "    </tr>\n",
       "  </tbody>\n",
       "</table>\n",
       "</div>"
      ],
      "text/plain": [
       "   project_id                                       project_name  \\\n",
       "0  1257739938  COASTIX: Our Coaster. Your Pix. Infinite Possi...   \n",
       "\n",
       "                                 project_description outcome_state  in_range  \\\n",
       "0  Bring your favorite social media photos and ar...    successful     False   \n",
       "\n",
       "   duration_10_percent  days_from_launch    usd_goal      usd_pledged  \\\n",
       "0                  3.0               155  3737.39845  4144.9916501601   \n",
       "\n",
       "  currency         launched_at            deadline  staff_pick country  \\\n",
       "0      CAD 2019-04-09 08:10:45 2019-05-09 08:10:45       False      CA   \n",
       "\n",
       "  duration  backers_count  \n",
       "0  30 days             77  "
      ]
     },
     "execution_count": 17,
     "metadata": {},
     "output_type": "execute_result"
    }
   ],
   "source": [
    "# Replace goal and rearrange\n",
    "col_list = df_2019_sep.columns.to_list()\n",
    "print(col_list)\n",
    "col_list_rearrange = ['project_id', 'project_name', 'project_description', 'outcome_state', 'in_range',\n",
    "                      'duration_10_percent', 'days_from_launch', \n",
    "                      'usd_goal', 'usd_pledged', 'currency', 'launched_at', 'deadline', 'staff_pick', 'country', \n",
    "                      'duration' , 'backers_count']\n",
    "df_2019_sep = df_2019_sep[col_list_rearrange]\n",
    "df_2019_sep.head(1)\n",
    "                      "
   ]
  },
  {
   "cell_type": "code",
   "execution_count": 18,
   "metadata": {},
   "outputs": [],
   "source": [
    "df_2019_sep_copy = df_2019_sep.copy(deep=True)\n",
    "# convert datetime columns before exporting\n",
    "# df_2019_sep.duration = df_2019_sep.duration.apply(lambda x: x.days) \n",
    "df_2019_sep.launched_at = df_2019_sep.launched_at.apply(lambda x: x.strftime('%m-%d-%Y'))\n",
    "df_2019_sep.deadline = df_2019_sep.deadline.apply(lambda x: x.strftime('%m-%d-%Y'))"
   ]
  },
  {
   "cell_type": "code",
   "execution_count": 19,
   "metadata": {},
   "outputs": [],
   "source": [
    "# export cleaned dataframe to csv\n",
    "df_2019_sep.to_csv('clean_datasets_10/main_df_2019_sep.csv', index=False)"
   ]
  },
  {
   "cell_type": "code",
   "execution_count": null,
   "metadata": {},
   "outputs": [],
   "source": []
  }
 ],
 "metadata": {
  "kernelspec": {
   "display_name": "Python 3",
   "language": "python",
   "name": "python3"
  },
  "language_info": {
   "codemirror_mode": {
    "name": "ipython",
    "version": 3
   },
   "file_extension": ".py",
   "mimetype": "text/x-python",
   "name": "python",
   "nbconvert_exporter": "python",
   "pygments_lexer": "ipython3",
   "version": "3.7.5"
  }
 },
 "nbformat": 4,
 "nbformat_minor": 2
}
