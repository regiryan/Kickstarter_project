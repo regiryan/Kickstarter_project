{
 "cells": [
  {
   "cell_type": "code",
   "execution_count": null,
   "metadata": {},
   "outputs": [],
   "source": [
    "import pandas as pd\n",
    "pd.set_option('display.max_columns', 500)\n",
    "from datetime import datetime\n",
    "import numpy as np\n",
    "import timeit\n",
    "import json\n",
    "from sklearn import preprocessing\n",
    "from sklearn.preprocessing import MinMaxScaler\n",
    "from sklearn.preprocessing import StandardScaler\n",
    "from sklearn.tree import DecisionTreeClassifier\n",
    "from sklearn.model_selection import train_test_split, GridSearchCV, cross_val_score\n",
    "import matplotlib.pyplot as plt\n",
    "import seaborn as sns\n",
    "from sklearn.externals.six import StringIO  \n",
    "from IPython.display import Image  \n",
    "from sklearn.tree import export_graphviz\n",
    "import pydotplus\n",
    "from sklearn.metrics import accuracy_score, confusion_matrix, classification_report, f1_score, precision_score, recall_score\n",
    "from sklearn.ensemble import BaggingClassifier, RandomForestClassifier\n",
    "\n",
    "\n"
   ]
  },
  {
   "cell_type": "code",
   "execution_count": null,
   "metadata": {},
   "outputs": [],
   "source": [
    "main_df = pd.read_csv('main_df_new.csv')"
   ]
  },
  {
   "cell_type": "code",
   "execution_count": null,
   "metadata": {},
   "outputs": [],
   "source": [
    "main_df.head(1)"
   ]
  },
  {
   "cell_type": "code",
   "execution_count": null,
   "metadata": {},
   "outputs": [],
   "source": [
    "main_df.pledged_to_goal_ratio.describe()"
   ]
  },
  {
   "cell_type": "code",
   "execution_count": null,
   "metadata": {},
   "outputs": [],
   "source": [
    "len(main_df[main_df.pledged_to_goal_ratio > 0.5]) / main_df.shape[0] "
   ]
  },
  {
   "cell_type": "code",
   "execution_count": null,
   "metadata": {
    "scrolled": true
   },
   "outputs": [],
   "source": [
    "main_df[(main_df.pledged_to_goal_ratio > 0.5) & (main_df.outcome_state == 'failed')]"
   ]
  },
  {
   "cell_type": "code",
   "execution_count": null,
   "metadata": {},
   "outputs": [],
   "source": [
    "main_df[main_df.pledged_to_goal_ratio > 0.5]"
   ]
  },
  {
   "cell_type": "code",
   "execution_count": null,
   "metadata": {},
   "outputs": [],
   "source": [
    "model_cols = ['usd_goal', 'pledged_to_goal_ratio', 'duration', 'staff_pick',\n",
    "              'country', 'main_category', 'backers_count', 'description_len', 'outcome_state']\n",
    "continuous_cols = ['usd_goal', 'duration', 'backers_count', 'pledged_to_goal_ratio', 'description_len']\n",
    "categorical_cols = ['staff_pick', 'country', 'main_category']\n",
    "\n",
    "drop_cols = list(set(main_df.columns.to_list()) - set(model_cols))"
   ]
  },
  {
   "cell_type": "code",
   "execution_count": null,
   "metadata": {},
   "outputs": [],
   "source": [
    "# create model_df \n",
    "model_df = main_df.drop(drop_cols, axis=1)\n",
    "model_df.head(1)"
   ]
  },
  {
   "cell_type": "code",
   "execution_count": null,
   "metadata": {},
   "outputs": [],
   "source": [
    "# encoding binary variables \n",
    "model_df['outcome_state'] = model_df['outcome_state'].map({'successful': 1, 'failed': 0})\n",
    "model_df['staff_pick'] = model_df['staff_pick'].astype(int)\n"
   ]
  },
  {
   "cell_type": "code",
   "execution_count": null,
   "metadata": {},
   "outputs": [],
   "source": [
    "model_df.head(3)"
   ]
  },
  {
   "cell_type": "code",
   "execution_count": null,
   "metadata": {},
   "outputs": [],
   "source": [
    "# Function to dummy categorical variables\n",
    "def dummy_df(df, todummy_list):\n",
    "    for x in todummy_list:\n",
    "        dummies = pd.get_dummies(df[x], prefix=x, dummy_na=False)\n",
    "        df = df.drop(x, 1)\n",
    "        df = pd.concat([df, dummies], axis=1)\n",
    "    return df"
   ]
  },
  {
   "cell_type": "code",
   "execution_count": null,
   "metadata": {},
   "outputs": [],
   "source": [
    "dummy_model_df = dummy_df(model_df, ['country'])\n",
    "\n",
    "X = dummy_model_df.drop('outcome_state', axis=1)\n",
    "y = dummy_model_df.loc[:, 'outcome_state']\n",
    "\n",
    "X_train, X_test, y_train, y_test = train_test_split(X, y, test_size =0.2, random_state=60)"
   ]
  },
  {
   "cell_type": "markdown",
   "metadata": {},
   "source": [
    "### Decision tree "
   ]
  },
  {
   "cell_type": "code",
   "execution_count": null,
   "metadata": {},
   "outputs": [],
   "source": [
    "tree_classifier = DecisionTreeClassifier(max_depth=2)  \n",
    "tree_classifier.fit(X_train, y_train)"
   ]
  },
  {
   "cell_type": "code",
   "execution_count": null,
   "metadata": {},
   "outputs": [],
   "source": [
    "# visualizing the classifier tree\n",
    "tree_classifier_pred = tree_classifier.predict(X_test)\n",
    "\n",
    "# Confusion matrix metrics\n",
    "print(f\"Precision Score (Test): {precision_score(y_test, tree_classifier_pred)}\")\n",
    "print(f\"Recall Score (Test): {recall_score(y_test, tree_classifier_pred)}\")\n",
    "print(f\"accuracy Score (Test): {accuracy_score(y_test, tree_classifier_pred)}\")\n",
    "print(f\"F1 Score (Test): {f1_score(y_test, tree_classifier_pred)}\")\n",
    "\n",
    "print({precision_score(y_test, tree_classifier_pred)})\n",
    "print({recall_score(y_test, tree_classifier_pred)})\n",
    "print({accuracy_score(y_test, tree_classifier_pred)})\n",
    "print({f1_score(y_test, tree_classifier_pred)})\n"
   ]
  },
  {
   "cell_type": "code",
   "execution_count": null,
   "metadata": {},
   "outputs": [],
   "source": [
    "def plot_feature_importances(model):\n",
    "    n_features = X_train.shape[1]\n",
    "    plt.figure(figsize=(8,8))\n",
    "    plt.barh(range(n_features), model.feature_importances_, align='center') \n",
    "    plt.yticks(np.arange(n_features), X_train.columns.values) \n",
    "    plt.xlabel('Feature importance')\n",
    "    plt.ylabel('Feature')\n"
   ]
  },
  {
   "cell_type": "code",
   "execution_count": null,
   "metadata": {},
   "outputs": [],
   "source": [
    "plot_feature_importances(tree_classifier)"
   ]
  },
  {
   "cell_type": "markdown",
   "metadata": {},
   "source": [
    "## Bagged trees"
   ]
  },
  {
   "cell_type": "code",
   "execution_count": null,
   "metadata": {},
   "outputs": [],
   "source": [
    "bagged_tree =  BaggingClassifier(DecisionTreeClassifier(criterion='gini', max_depth=2), \n",
    "                                 n_estimators=20)\n",
    "bagged_tree.fit(X_train, y_train)\n"
   ]
  },
  {
   "cell_type": "code",
   "execution_count": null,
   "metadata": {},
   "outputs": [],
   "source": [
    "bagged_tree_pred = bagged_tree.predict(X_test)\n",
    "\n",
    "# Confusion matrix metrics\n",
    "print(f\"Precision Score (Test): {precision_score(y_test, bagged_tree_pred)}\")\n",
    "print(f\"Recall Score (Test): {recall_score(y_test, bagged_tree_pred)}\")\n",
    "print(f\"accuracy Score (Test): {accuracy_score(y_test, bagged_tree_pred)}\")\n",
    "print(f\"F1 Score (Test): {f1_score(y_test, bagged_tree_pred)}\")\n",
    "\n",
    "print({precision_score(y_test, bagged_tree_pred)})\n",
    "print({recall_score(y_test, bagged_tree_pred)})\n",
    "print({accuracy_score(y_test, bagged_tree_pred)})\n",
    "print({f1_score(y_test, bagged_tree_pred)})\n"
   ]
  },
  {
   "cell_type": "markdown",
   "metadata": {},
   "source": [
    "### Random Forest"
   ]
  },
  {
   "cell_type": "code",
   "execution_count": null,
   "metadata": {
    "scrolled": true
   },
   "outputs": [],
   "source": [
    "forest = RandomForestClassifier(n_estimators=100, max_depth= 2)\n",
    "forest.fit(X_train, y_train)"
   ]
  },
  {
   "cell_type": "code",
   "execution_count": null,
   "metadata": {},
   "outputs": [],
   "source": [
    "forest_pred = forest.predict(X_test)\n"
   ]
  },
  {
   "cell_type": "code",
   "execution_count": null,
   "metadata": {},
   "outputs": [],
   "source": [
    "# Confusion matrix metrics\n",
    "print(f\"Precision Score (Test): {precision_score(y_test, forest_pred)}\")\n",
    "print(f\"Recall Score (Test): {recall_score(y_test, forest_pred)}\")\n",
    "print(f\"accuracy Score (Test): {accuracy_score(y_test, forest_pred)}\")\n",
    "print(f\"F1 Score (Test): {f1_score(y_test, forest_pred)}\")\n",
    "\n",
    "print({precision_score(y_test, forest_pred)})\n",
    "print({recall_score(y_test, forest_pred)})\n",
    "print({accuracy_score(y_test, forest_pred)})\n",
    "print({f1_score(y_test, forest_pred)})"
   ]
  },
  {
   "cell_type": "code",
   "execution_count": null,
   "metadata": {},
   "outputs": [],
   "source": [
    "plot_feature_importances(forest)"
   ]
  },
  {
   "cell_type": "code",
   "execution_count": null,
   "metadata": {},
   "outputs": [],
   "source": [
    "print(f'Forest accuracy_score: {accuracy_score(y_test, tree_preds)}')\n",
    "print(f'Forest accuracy_score: {accuracy_score(y_test, tree_preds)}')"
   ]
  },
  {
   "cell_type": "code",
   "execution_count": null,
   "metadata": {},
   "outputs": [],
   "source": [
    "# dt_param_grid = {\n",
    "#     'n_estimators':[10,100,500], \n",
    "#     'criterion': ['gini', 'entropy'],\n",
    "#     'max_depth':[2,5,7],\n",
    "#     'min_samples_split':[2, 5, 10],\n",
    "#     'max_features':[3,7,10,20] }"
   ]
  },
  {
   "cell_type": "code",
   "execution_count": null,
   "metadata": {},
   "outputs": [],
   "source": [
    "# # Instantiate GridSearchCV\n",
    "# forest_grid_search = GridSearchCV(forest, dt_param_grid, cv=3, return_train_score=True)\n",
    "\n",
    "# # Fit to the data\n",
    "# forest_grid_search.fit(X_train, y_train)"
   ]
  },
  {
   "cell_type": "code",
   "execution_count": null,
   "metadata": {},
   "outputs": [],
   "source": [
    "# dt_cv_score = cross_val_score(dt_clf, X_train, y_train, cv=3)\n",
    "# mean_dt_cv_score = np.mean(dt_cv_score)\n",
    "\n",
    "# print(f\"Mean Cross Validation Score: {mean_dt_cv_score :.2%}\")"
   ]
  },
  {
   "cell_type": "code",
   "execution_count": null,
   "metadata": {},
   "outputs": [],
   "source": [
    "# # Mean training score\n",
    "# # grid_training_score = np.mean(dt_grid_search.cv_results_['mean_train_score'])\n",
    "\n",
    "# # Mean test score\n",
    "# grid_testing_score = forest_grid_search.score(X_test, y_test)\n",
    "\n",
    "# # print(f\"Mean Training Score: {dt_gs_training_score :.2%}\")\n",
    "# print(f\"Mean Test Score: {grid_testing_score }\")\n",
    "# print(\"Best Parameter Combination Found During Grid Search:\")\n",
    "# forest_grid_search.best_params_"
   ]
  },
  {
   "cell_type": "code",
   "execution_count": null,
   "metadata": {},
   "outputs": [],
   "source": [
    "forest_best = RandomForestClassifier(n_estimators=10, max_depth= 5, max_features=20, min_samples_split=10, criterion='entropy')\n"
   ]
  },
  {
   "cell_type": "code",
   "execution_count": null,
   "metadata": {},
   "outputs": [],
   "source": [
    "forest_best.fit(X_train, y_train)\n",
    "\n",
    "forest_best_preds = forest_best.predict(X_test)"
   ]
  },
  {
   "cell_type": "code",
   "execution_count": null,
   "metadata": {},
   "outputs": [],
   "source": [
    "# Confusion matrix metrics\n",
    "print(f\"Precision Score (Test): {precision_score(y_test, forest_best_pred)}\")\n",
    "print(f\"Recall Score (Test): {recall_score(y_test, forest_best_pred)}\")\n",
    "print(f\"accuracy Score (Test): {accuracy_score(y_test, forest_best_pred)}\")\n",
    "print(f\"F1 Score (Test): {f1_score(y_test, forest_best_pred)}\")\n",
    "\n",
    "print({precision_score(y_test, forest_best_pred)})\n",
    "print({recall_score(y_test, forest_best_pred)})\n",
    "print({accuracy_score(y_test, forest_best_pred)})\n",
    "print({f1_score(y_test, forest_best_pred)})"
   ]
  },
  {
   "cell_type": "code",
   "execution_count": null,
   "metadata": {},
   "outputs": [],
   "source": []
  }
 ],
 "metadata": {
  "kernelspec": {
   "display_name": "Python 3",
   "language": "python",
   "name": "python3"
  },
  "language_info": {
   "codemirror_mode": {
    "name": "ipython",
    "version": 3
   },
   "file_extension": ".py",
   "mimetype": "text/x-python",
   "name": "python",
   "nbconvert_exporter": "python",
   "pygments_lexer": "ipython3",
   "version": "3.7.5"
  }
 },
 "nbformat": 4,
 "nbformat_minor": 2
}
